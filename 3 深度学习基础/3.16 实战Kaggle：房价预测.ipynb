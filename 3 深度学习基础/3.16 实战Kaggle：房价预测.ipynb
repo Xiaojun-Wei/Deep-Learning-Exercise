{
 "cells": [
  {
   "cell_type": "code",
   "execution_count": 1,
   "metadata": {
    "collapsed": true
   },
   "outputs": [],
   "source": [
    "%matplotlib inline\n",
    "import tensorflow as tf\n",
    "from tensorflow import keras\n",
    "import numpy as np\n",
    "import pandas as pd\n",
    "import matplotlib.pyplot as plt\n",
    "from tensorflow import initializers as init"
   ]
  },
  {
   "cell_type": "code",
   "execution_count": 10,
   "outputs": [],
   "source": [
    "train_data = pd.read_csv('house_data/train.csv')\n",
    "test_data = pd.read_csv('house_data/test.csv')"
   ],
   "metadata": {
    "collapsed": false,
    "pycharm": {
     "name": "#%%\n"
    }
   }
  },
  {
   "cell_type": "code",
   "execution_count": 11,
   "outputs": [
    {
     "data": {
      "text/plain": "(1460, 81)"
     },
     "execution_count": 11,
     "metadata": {},
     "output_type": "execute_result"
    }
   ],
   "source": [
    "train_data.shape # 1460个样本，80个特征和1个标签"
   ],
   "metadata": {
    "collapsed": false,
    "pycharm": {
     "name": "#%%\n"
    }
   }
  },
  {
   "cell_type": "code",
   "execution_count": 12,
   "outputs": [
    {
     "data": {
      "text/plain": "(1459, 80)"
     },
     "execution_count": 12,
     "metadata": {},
     "output_type": "execute_result"
    }
   ],
   "source": [
    "test_data.shape # 输出(1459，80)"
   ],
   "metadata": {
    "collapsed": false,
    "pycharm": {
     "name": "#%%\n"
    }
   }
  },
  {
   "cell_type": "code",
   "execution_count": 13,
   "outputs": [
    {
     "data": {
      "text/plain": "   Id  MSSubClass MSZoning  LotFrontage SaleType SaleType\n0   1          60       RL         65.0       WD       WD\n1   2          20       RL         80.0       WD       WD\n2   3          60       RL         68.0       WD       WD\n3   4          70       RL         60.0       WD       WD",
      "text/html": "<div>\n<style scoped>\n    .dataframe tbody tr th:only-of-type {\n        vertical-align: middle;\n    }\n\n    .dataframe tbody tr th {\n        vertical-align: top;\n    }\n\n    .dataframe thead th {\n        text-align: right;\n    }\n</style>\n<table border=\"1\" class=\"dataframe\">\n  <thead>\n    <tr style=\"text-align: right;\">\n      <th></th>\n      <th>Id</th>\n      <th>MSSubClass</th>\n      <th>MSZoning</th>\n      <th>LotFrontage</th>\n      <th>SaleType</th>\n      <th>SaleType</th>\n    </tr>\n  </thead>\n  <tbody>\n    <tr>\n      <th>0</th>\n      <td>1</td>\n      <td>60</td>\n      <td>RL</td>\n      <td>65.0</td>\n      <td>WD</td>\n      <td>WD</td>\n    </tr>\n    <tr>\n      <th>1</th>\n      <td>2</td>\n      <td>20</td>\n      <td>RL</td>\n      <td>80.0</td>\n      <td>WD</td>\n      <td>WD</td>\n    </tr>\n    <tr>\n      <th>2</th>\n      <td>3</td>\n      <td>60</td>\n      <td>RL</td>\n      <td>68.0</td>\n      <td>WD</td>\n      <td>WD</td>\n    </tr>\n    <tr>\n      <th>3</th>\n      <td>4</td>\n      <td>70</td>\n      <td>RL</td>\n      <td>60.0</td>\n      <td>WD</td>\n      <td>WD</td>\n    </tr>\n  </tbody>\n</table>\n</div>"
     },
     "execution_count": 13,
     "metadata": {},
     "output_type": "execute_result"
    }
   ],
   "source": [
    "# 前4个样本的前4个特征、后2个特征和标签\n",
    "train_data.iloc[0:4,[0,1,2,3,-3,-2-1]]\n"
   ],
   "metadata": {
    "collapsed": false,
    "pycharm": {
     "name": "#%%\n"
    }
   }
  },
  {
   "cell_type": "code",
   "execution_count": 17,
   "outputs": [
    {
     "data": {
      "text/plain": "      MSSubClass MSZoning  LotFrontage  LotArea Street Alley LotShape  \\\n0             60       RL         65.0     8450   Pave   NaN      Reg   \n1             20       RL         80.0     9600   Pave   NaN      Reg   \n2             60       RL         68.0    11250   Pave   NaN      IR1   \n3             70       RL         60.0     9550   Pave   NaN      IR1   \n4             60       RL         84.0    14260   Pave   NaN      IR1   \n...          ...      ...          ...      ...    ...   ...      ...   \n1454         160       RM         21.0     1936   Pave   NaN      Reg   \n1455         160       RM         21.0     1894   Pave   NaN      Reg   \n1456          20       RL        160.0    20000   Pave   NaN      Reg   \n1457          85       RL         62.0    10441   Pave   NaN      Reg   \n1458          60       RL         74.0     9627   Pave   NaN      Reg   \n\n     LandContour Utilities LotConfig  ... ScreenPorch PoolArea PoolQC  Fence  \\\n0            Lvl    AllPub    Inside  ...           0        0    NaN    NaN   \n1            Lvl    AllPub       FR2  ...           0        0    NaN    NaN   \n2            Lvl    AllPub    Inside  ...           0        0    NaN    NaN   \n3            Lvl    AllPub    Corner  ...           0        0    NaN    NaN   \n4            Lvl    AllPub       FR2  ...           0        0    NaN    NaN   \n...          ...       ...       ...  ...         ...      ...    ...    ...   \n1454         Lvl    AllPub    Inside  ...           0        0    NaN    NaN   \n1455         Lvl    AllPub    Inside  ...           0        0    NaN    NaN   \n1456         Lvl    AllPub    Inside  ...           0        0    NaN    NaN   \n1457         Lvl    AllPub    Inside  ...           0        0    NaN  MnPrv   \n1458         Lvl    AllPub    Inside  ...           0        0    NaN    NaN   \n\n     MiscFeature MiscVal  MoSold  YrSold  SaleType  SaleCondition  \n0            NaN       0       2    2008        WD         Normal  \n1            NaN       0       5    2007        WD         Normal  \n2            NaN       0       9    2008        WD         Normal  \n3            NaN       0       2    2006        WD        Abnorml  \n4            NaN       0      12    2008        WD         Normal  \n...          ...     ...     ...     ...       ...            ...  \n1454         NaN       0       6    2006        WD         Normal  \n1455         NaN       0       4    2006        WD        Abnorml  \n1456         NaN       0       9    2006        WD        Abnorml  \n1457        Shed     700       7    2006        WD         Normal  \n1458         NaN       0      11    2006        WD         Normal  \n\n[2919 rows x 79 columns]",
      "text/html": "<div>\n<style scoped>\n    .dataframe tbody tr th:only-of-type {\n        vertical-align: middle;\n    }\n\n    .dataframe tbody tr th {\n        vertical-align: top;\n    }\n\n    .dataframe thead th {\n        text-align: right;\n    }\n</style>\n<table border=\"1\" class=\"dataframe\">\n  <thead>\n    <tr style=\"text-align: right;\">\n      <th></th>\n      <th>MSSubClass</th>\n      <th>MSZoning</th>\n      <th>LotFrontage</th>\n      <th>LotArea</th>\n      <th>Street</th>\n      <th>Alley</th>\n      <th>LotShape</th>\n      <th>LandContour</th>\n      <th>Utilities</th>\n      <th>LotConfig</th>\n      <th>...</th>\n      <th>ScreenPorch</th>\n      <th>PoolArea</th>\n      <th>PoolQC</th>\n      <th>Fence</th>\n      <th>MiscFeature</th>\n      <th>MiscVal</th>\n      <th>MoSold</th>\n      <th>YrSold</th>\n      <th>SaleType</th>\n      <th>SaleCondition</th>\n    </tr>\n  </thead>\n  <tbody>\n    <tr>\n      <th>0</th>\n      <td>60</td>\n      <td>RL</td>\n      <td>65.0</td>\n      <td>8450</td>\n      <td>Pave</td>\n      <td>NaN</td>\n      <td>Reg</td>\n      <td>Lvl</td>\n      <td>AllPub</td>\n      <td>Inside</td>\n      <td>...</td>\n      <td>0</td>\n      <td>0</td>\n      <td>NaN</td>\n      <td>NaN</td>\n      <td>NaN</td>\n      <td>0</td>\n      <td>2</td>\n      <td>2008</td>\n      <td>WD</td>\n      <td>Normal</td>\n    </tr>\n    <tr>\n      <th>1</th>\n      <td>20</td>\n      <td>RL</td>\n      <td>80.0</td>\n      <td>9600</td>\n      <td>Pave</td>\n      <td>NaN</td>\n      <td>Reg</td>\n      <td>Lvl</td>\n      <td>AllPub</td>\n      <td>FR2</td>\n      <td>...</td>\n      <td>0</td>\n      <td>0</td>\n      <td>NaN</td>\n      <td>NaN</td>\n      <td>NaN</td>\n      <td>0</td>\n      <td>5</td>\n      <td>2007</td>\n      <td>WD</td>\n      <td>Normal</td>\n    </tr>\n    <tr>\n      <th>2</th>\n      <td>60</td>\n      <td>RL</td>\n      <td>68.0</td>\n      <td>11250</td>\n      <td>Pave</td>\n      <td>NaN</td>\n      <td>IR1</td>\n      <td>Lvl</td>\n      <td>AllPub</td>\n      <td>Inside</td>\n      <td>...</td>\n      <td>0</td>\n      <td>0</td>\n      <td>NaN</td>\n      <td>NaN</td>\n      <td>NaN</td>\n      <td>0</td>\n      <td>9</td>\n      <td>2008</td>\n      <td>WD</td>\n      <td>Normal</td>\n    </tr>\n    <tr>\n      <th>3</th>\n      <td>70</td>\n      <td>RL</td>\n      <td>60.0</td>\n      <td>9550</td>\n      <td>Pave</td>\n      <td>NaN</td>\n      <td>IR1</td>\n      <td>Lvl</td>\n      <td>AllPub</td>\n      <td>Corner</td>\n      <td>...</td>\n      <td>0</td>\n      <td>0</td>\n      <td>NaN</td>\n      <td>NaN</td>\n      <td>NaN</td>\n      <td>0</td>\n      <td>2</td>\n      <td>2006</td>\n      <td>WD</td>\n      <td>Abnorml</td>\n    </tr>\n    <tr>\n      <th>4</th>\n      <td>60</td>\n      <td>RL</td>\n      <td>84.0</td>\n      <td>14260</td>\n      <td>Pave</td>\n      <td>NaN</td>\n      <td>IR1</td>\n      <td>Lvl</td>\n      <td>AllPub</td>\n      <td>FR2</td>\n      <td>...</td>\n      <td>0</td>\n      <td>0</td>\n      <td>NaN</td>\n      <td>NaN</td>\n      <td>NaN</td>\n      <td>0</td>\n      <td>12</td>\n      <td>2008</td>\n      <td>WD</td>\n      <td>Normal</td>\n    </tr>\n    <tr>\n      <th>...</th>\n      <td>...</td>\n      <td>...</td>\n      <td>...</td>\n      <td>...</td>\n      <td>...</td>\n      <td>...</td>\n      <td>...</td>\n      <td>...</td>\n      <td>...</td>\n      <td>...</td>\n      <td>...</td>\n      <td>...</td>\n      <td>...</td>\n      <td>...</td>\n      <td>...</td>\n      <td>...</td>\n      <td>...</td>\n      <td>...</td>\n      <td>...</td>\n      <td>...</td>\n      <td>...</td>\n    </tr>\n    <tr>\n      <th>1454</th>\n      <td>160</td>\n      <td>RM</td>\n      <td>21.0</td>\n      <td>1936</td>\n      <td>Pave</td>\n      <td>NaN</td>\n      <td>Reg</td>\n      <td>Lvl</td>\n      <td>AllPub</td>\n      <td>Inside</td>\n      <td>...</td>\n      <td>0</td>\n      <td>0</td>\n      <td>NaN</td>\n      <td>NaN</td>\n      <td>NaN</td>\n      <td>0</td>\n      <td>6</td>\n      <td>2006</td>\n      <td>WD</td>\n      <td>Normal</td>\n    </tr>\n    <tr>\n      <th>1455</th>\n      <td>160</td>\n      <td>RM</td>\n      <td>21.0</td>\n      <td>1894</td>\n      <td>Pave</td>\n      <td>NaN</td>\n      <td>Reg</td>\n      <td>Lvl</td>\n      <td>AllPub</td>\n      <td>Inside</td>\n      <td>...</td>\n      <td>0</td>\n      <td>0</td>\n      <td>NaN</td>\n      <td>NaN</td>\n      <td>NaN</td>\n      <td>0</td>\n      <td>4</td>\n      <td>2006</td>\n      <td>WD</td>\n      <td>Abnorml</td>\n    </tr>\n    <tr>\n      <th>1456</th>\n      <td>20</td>\n      <td>RL</td>\n      <td>160.0</td>\n      <td>20000</td>\n      <td>Pave</td>\n      <td>NaN</td>\n      <td>Reg</td>\n      <td>Lvl</td>\n      <td>AllPub</td>\n      <td>Inside</td>\n      <td>...</td>\n      <td>0</td>\n      <td>0</td>\n      <td>NaN</td>\n      <td>NaN</td>\n      <td>NaN</td>\n      <td>0</td>\n      <td>9</td>\n      <td>2006</td>\n      <td>WD</td>\n      <td>Abnorml</td>\n    </tr>\n    <tr>\n      <th>1457</th>\n      <td>85</td>\n      <td>RL</td>\n      <td>62.0</td>\n      <td>10441</td>\n      <td>Pave</td>\n      <td>NaN</td>\n      <td>Reg</td>\n      <td>Lvl</td>\n      <td>AllPub</td>\n      <td>Inside</td>\n      <td>...</td>\n      <td>0</td>\n      <td>0</td>\n      <td>NaN</td>\n      <td>MnPrv</td>\n      <td>Shed</td>\n      <td>700</td>\n      <td>7</td>\n      <td>2006</td>\n      <td>WD</td>\n      <td>Normal</td>\n    </tr>\n    <tr>\n      <th>1458</th>\n      <td>60</td>\n      <td>RL</td>\n      <td>74.0</td>\n      <td>9627</td>\n      <td>Pave</td>\n      <td>NaN</td>\n      <td>Reg</td>\n      <td>Lvl</td>\n      <td>AllPub</td>\n      <td>Inside</td>\n      <td>...</td>\n      <td>0</td>\n      <td>0</td>\n      <td>NaN</td>\n      <td>NaN</td>\n      <td>NaN</td>\n      <td>0</td>\n      <td>11</td>\n      <td>2006</td>\n      <td>WD</td>\n      <td>Normal</td>\n    </tr>\n  </tbody>\n</table>\n<p>2919 rows × 79 columns</p>\n</div>"
     },
     "execution_count": 17,
     "metadata": {},
     "output_type": "execute_result"
    }
   ],
   "source": [
    "# 将所有的训练数据和测试数据的79个特征按样本连结\n",
    "all_features = pd.concat((train_data.iloc[:, 1: -1], test_data.iloc[:, 1:]))\n",
    "all_features"
   ],
   "metadata": {
    "collapsed": false,
    "pycharm": {
     "name": "#%%\n"
    }
   }
  },
  {
   "cell_type": "markdown",
   "source": [
    "## 3.16.3 预处理数据 ##"
   ],
   "metadata": {
    "collapsed": false,
    "pycharm": {
     "name": "#%% md\n"
    }
   }
  },
  {
   "cell_type": "code",
   "execution_count": 19,
   "outputs": [],
   "source": [
    "# 将特征的每个值先减去均值u再除以标准差得到标准化后的特征值\n",
    "numeric_features = all_features.dtypes[all_features.dtypes != 'object'].index\n",
    "all_features[numeric_features] = all_features[numeric_features].apply(\n",
    "    lambda x: (x - x.mean()) / (x.std())\n",
    ")\n",
    "# 标准化后，每个特征的均值变为0，所以可以直接用0来代替缺失值\n",
    "all_features = all_features.fillna(0)"
   ],
   "metadata": {
    "collapsed": false,
    "pycharm": {
     "name": "#%%\n"
    }
   }
  },
  {
   "cell_type": "code",
   "execution_count": 22,
   "outputs": [
    {
     "data": {
      "text/plain": "(2919, 354)"
     },
     "execution_count": 22,
     "metadata": {},
     "output_type": "execute_result"
    }
   ],
   "source": [
    "# dummy_na = True将缺失值也当作合法的特征值并为其创建特征指标\n",
    "all_features = pd.get_dummies(all_features, dummy_na=True)\n",
    "all_features.shape # (2919, 354)\n",
    "# 特征数从79增加到354"
   ],
   "metadata": {
    "collapsed": false,
    "pycharm": {
     "name": "#%%\n"
    }
   }
  },
  {
   "cell_type": "code",
   "execution_count": 25,
   "outputs": [
    {
     "name": "stderr",
     "output_type": "stream",
     "text": [
      "/Users/xiaojun/opt/anaconda3/envs/cs224n/lib/python3.7/site-packages/ipykernel_launcher.py:3: DeprecationWarning: `np.float` is a deprecated alias for the builtin `float`. To silence this warning, use `float` by itself. Doing this will not modify any behavior and is safe. If you specifically wanted the numpy scalar type, use `np.float64` here.\n",
      "Deprecated in NumPy 1.20; for more details and guidance: https://numpy.org/devdocs/release/1.20.0-notes.html#deprecations\n",
      "  This is separate from the ipykernel package so we can avoid doing imports until\n",
      "/Users/xiaojun/opt/anaconda3/envs/cs224n/lib/python3.7/site-packages/ipykernel_launcher.py:4: DeprecationWarning: `np.float` is a deprecated alias for the builtin `float`. To silence this warning, use `float` by itself. Doing this will not modify any behavior and is safe. If you specifically wanted the numpy scalar type, use `np.float64` here.\n",
      "Deprecated in NumPy 1.20; for more details and guidance: https://numpy.org/devdocs/release/1.20.0-notes.html#deprecations\n",
      "  after removing the cwd from sys.path.\n",
      "/Users/xiaojun/opt/anaconda3/envs/cs224n/lib/python3.7/site-packages/ipykernel_launcher.py:5: DeprecationWarning: `np.float` is a deprecated alias for the builtin `float`. To silence this warning, use `float` by itself. Doing this will not modify any behavior and is safe. If you specifically wanted the numpy scalar type, use `np.float64` here.\n",
      "Deprecated in NumPy 1.20; for more details and guidance: https://numpy.org/devdocs/release/1.20.0-notes.html#deprecations\n",
      "  \"\"\"\n"
     ]
    }
   ],
   "source": [
    "# 通过values属性得到numpy格式的数据，并转化成NDArray方便后面的训练\n",
    "n_train = train_data.shape[0]\n",
    "train_features = np.array(all_features[:n_train].values, dtype=np.float)\n",
    "test_features = np.array(all_features[n_train:].values, dtype=np.float)\n",
    "train_labels = np.array(train_data.SalePrice.values.reshape(-1, 1), dtype=np.float)"
   ],
   "metadata": {
    "collapsed": false,
    "pycharm": {
     "name": "#%%\n"
    }
   }
  },
  {
   "cell_type": "markdown",
   "source": [
    "## 3.16.4 训练模型 ##"
   ],
   "metadata": {
    "collapsed": false,
    "pycharm": {
     "name": "#%% md\n"
    }
   }
  },
  {
   "cell_type": "code",
   "execution_count": 27,
   "outputs": [],
   "source": [
    "# 使用基本线性回归来训练模型\n",
    "def get_net():\n",
    "    net = keras.models.Sequential()\n",
    "    net.add(keras.layers.Dense(1))\n",
    "    return net"
   ],
   "metadata": {
    "collapsed": false,
    "pycharm": {
     "name": "#%%\n"
    }
   }
  },
  {
   "cell_type": "code",
   "execution_count": 28,
   "outputs": [],
   "source": [
    "# 对数的均方差误差来评价模型\n",
    "log_rmse = tf.keras.losses.mean_squared_logarithmic_error"
   ],
   "metadata": {
    "collapsed": false,
    "pycharm": {
     "name": "#%%\n"
    }
   }
  },
  {
   "cell_type": "markdown",
   "source": [
    "## 3.16.5 K折交叉验证 ##"
   ],
   "metadata": {
    "collapsed": false,
    "pycharm": {
     "name": "#%% md\n"
    }
   }
  },
  {
   "cell_type": "code",
   "execution_count": 36,
   "outputs": [],
   "source": [
    "# 以下函数返回第i折交叉验证时所需要的训练和验证数据\n",
    "def get_k_fold_data(k, i, X, y):\n",
    "    assert k > 1\n",
    "    fold_size = X.shape[0] // k\n",
    "    X_train, y_train = None, None\n",
    "    for j in range(k):\n",
    "        idx = slice(j * fold_size, (j + 1) * fold_size)\n",
    "        X_part, y_part  = X[idx, :], y[idx]\n",
    "        if j == i:\n",
    "            X_valid, y_valid = X_part, y_part\n",
    "        elif X_train is None:\n",
    "            X_train, y_train = X_part, y_part\n",
    "        else:\n",
    "            X_train = tf.concat([X_train, X_part], axis=0)\n",
    "    return X_train, y_train, X_valid, y_valid\n"
   ],
   "metadata": {
    "collapsed": false,
    "pycharm": {
     "name": "#%%\n"
    }
   }
  },
  {
   "cell_type": "code",
   "execution_count": 38,
   "outputs": [],
   "source": [
    "# 在K折交叉验证中我们训练K次，并返回训练和验证的平均误差\n",
    "def k_fold(k, X_train, y_train, num_epochs, learning_rate, weight_decay, batch_size):\n",
    "    train_1_sum, valid_1_su = 0, 0\n",
    "    for i in range(k):\n",
    "        # create model\n",
    "        data = get_k_fold_data(k, i, X_train, y_train)\n",
    "        net = get_net()\n",
    "        # Compile model\n",
    "        net.compile(loss=tf.keras.losses.mean_squared_logarithmic_error,\n",
    "                    optimizer=tf.keras.optimizers.Adam(learning_rate))\n",
    "        # Fit the model\n",
    "        history=net.fit(data[0], data[1], validation_data=(data[2], data[3]), epochs=num_epochs, batch_size=batch_size, validation_freq=1,verbose=0)\n",
    "        loss = history.history['loss']\n",
    "        val_loss = history.history['loss']\n",
    "        print('fold %d, train rmse %f valid rmse %f'\n",
    "              % (i, loss[-1], val_loss[-1]))\n",
    "    plt.subplot(1, 2, 2)\n",
    "    plt.plot(loss, label='train')\n",
    "    plt.plot(val_loss, label='valid')\n",
    "    plt.legend(loc='upper right')\n",
    "    plt.title(\"Training and Validation Loss\")\n",
    "    plt.show()"
   ],
   "metadata": {
    "collapsed": false,
    "pycharm": {
     "name": "#%%\n"
    }
   }
  },
  {
   "cell_type": "markdown",
   "source": [
    "## 3.16.6 模型选择 ##"
   ],
   "metadata": {
    "collapsed": false,
    "pycharm": {
     "name": "#%% md\n"
    }
   }
  },
  {
   "cell_type": "code",
   "execution_count": 39,
   "outputs": [
    {
     "ename": "ValueError",
     "evalue": "Do not pass inputs that mix Numpy arrays and TensorFlow tensors. You passed: x=tf.Tensor(\n[[-1.67876685e-01 -4.36638724e-01  1.57333142e-01 ...  1.00000000e+00\n   0.00000000e+00  0.00000000e+00]\n [ 6.73198800e-02  1.86279879e-16  8.22985789e-01 ...  1.00000000e+00\n   0.00000000e+00  0.00000000e+00]\n [-8.73466378e-01  5.01784504e-01 -7.20317411e-02 ...  1.00000000e+00\n   0.00000000e+00  0.00000000e+00]\n ...\n [ 3.02516445e-01 -1.55111755e-01 -1.42781108e-01 ...  1.00000000e+00\n   0.00000000e+00  0.00000000e+00]\n [-8.73466378e-01 -6.12694327e-02 -5.71971965e-02 ...  1.00000000e+00\n   0.00000000e+00  0.00000000e+00]\n [-8.73466378e-01  2.67178697e-01 -2.93031808e-02 ...  1.00000000e+00\n   0.00000000e+00  0.00000000e+00]], shape=(1168, 354), dtype=float64); y=[[131000.]\n [235000.]\n [167000.]\n [142500.]\n [152000.]\n [239000.]\n [175000.]\n [158500.]\n [157000.]\n [267000.]\n [205000.]\n [149900.]\n [295000.]\n [305900.]\n [225000.]\n [ 89500.]\n [ 82500.]\n [360000.]\n [165600.]\n [132000.]\n [119900.]\n [375000.]\n [178000.]\n [188500.]\n [260000.]\n [270000.]\n [260000.]\n [187500.]\n [342643.]\n [354000.]\n [301000.]\n [126175.]\n [242000.]\n [ 87000.]\n [324000.]\n [145250.]\n [214500.]\n [ 78000.]\n [119000.]\n [139000.]\n [284000.]\n [207000.]\n [192000.]\n [228950.]\n [377426.]\n [214000.]\n [202500.]\n [155000.]\n [202900.]\n [ 82000.]\n [ 87500.]\n [266000.]\n [ 85000.]\n [140200.]\n [151500.]\n [157500.]\n [154000.]\n [437154.]\n [318061.]\n [190000.]\n [ 95000.]\n [105900.]\n [140000.]\n [177500.]\n [173000.]\n [134000.]\n [130000.]\n [280000.]\n [156000.]\n [145000.]\n [198500.]\n [118000.]\n [190000.]\n [147000.]\n [159000.]\n [165000.]\n [132000.]\n [162000.]\n [172400.]\n [134432.]\n [125000.]\n [123000.]\n [219500.]\n [ 61000.]\n [148000.]\n [340000.]\n [394432.]\n [179000.]\n [127000.]\n [187750.]\n [213500.]\n [ 76000.]\n [240000.]\n [192000.]\n [ 81000.]\n [125000.]\n [191000.]\n [426000.]\n [119000.]\n [215000.]\n [106500.]\n [100000.]\n [109000.]\n [129000.]\n [123000.]\n [169500.]\n [ 67000.]\n [241000.]\n [245500.]\n [164990.]\n [108000.]\n [258000.]\n [168000.]\n [150000.]\n [115000.]\n [177000.]\n [280000.]\n [339750.]\n [ 60000.]\n [145000.]\n [222000.]\n [115000.]\n [228000.]\n [181134.]\n [149500.]\n [239000.]\n [126000.]\n [142000.]\n [206300.]\n [215000.]\n [113000.]\n [315000.]\n [139000.]\n [135000.]\n [275000.]\n [109008.]\n [195400.]\n [175000.]\n [ 85400.]\n [ 79900.]\n [122500.]\n [181000.]\n [ 81000.]\n [212000.]\n [116000.]\n [119000.]\n [ 90350.]\n [110000.]\n [555000.]\n [118000.]\n [162900.]\n [172500.]\n [210000.]\n [127500.]\n [190000.]\n [199900.]\n [119500.]\n [120000.]\n [110000.]\n [280000.]\n [204000.]\n [210000.]\n [188000.]\n [175500.]\n [ 98000.]\n [256000.]\n [161000.]\n [110000.]\n [263435.]\n [155000.]\n [ 62383.]\n [188700.]\n [124000.]\n [178740.]\n [167000.]\n [146500.]\n [250000.]\n [187000.]\n [212000.]\n [190000.]\n [148000.]\n [440000.]\n [251000.]\n [132500.]\n [208900.]\n [380000.]\n [297000.]\n [ 89471.]\n [326000.]\n [374000.]\n [155000.]\n [164000.]\n [132500.]\n [147000.]\n [156000.]\n [175000.]\n [160000.]\n [ 86000.]\n [115000.]\n [133000.]\n [172785.]\n [155000.]\n [ 91300.]\n [ 34900.]\n [430000.]\n [184000.]\n [130000.]\n [120000.]\n [113000.]\n [226700.]\n [140000.]\n [289000.]\n [147000.]\n [124500.]\n [215000.]\n [208300.]\n [161000.]\n [124500.]\n [164900.]\n [202665.]\n [129900.]\n [134000.]\n [ 96500.]\n [402861.]\n [158000.]\n [265000.]\n [211000.]\n [234000.]\n [106250.]\n [150000.]\n [159000.]\n [184750.]\n [315750.]\n [176000.]\n [132000.]\n [446261.]\n [ 86000.]\n [200624.]\n [175000.]\n [128000.]\n [107500.]\n [ 39300.]\n [178000.]\n [107500.]\n [188000.]\n [111250.]\n [158000.]\n [272000.]\n [315000.]\n [248000.]\n [213250.]\n [133000.]\n [179665.]\n [229000.]\n [210000.]\n [129500.]\n [125000.]\n [263000.]\n [140000.]\n [112500.]\n [255500.]\n [108000.]\n [284000.]\n [113000.]\n [141000.]\n [108000.]\n [175000.]\n [234000.]\n [121500.]\n [170000.]\n [108000.]\n [185000.]\n [268000.]\n [128000.]\n [325000.]\n [214000.]\n [316600.]\n [135960.]\n [142600.]\n [120000.]\n [224500.]\n [170000.]\n [139000.]\n [118500.]\n [145000.]\n [164500.]\n [146000.]\n [131500.]\n [181900.]\n [253293.]\n [118500.]\n [325000.]]",
     "output_type": "error",
     "traceback": [
      "\u001B[0;31m---------------------------------------------------------------------------\u001B[0m",
      "\u001B[0;31mValueError\u001B[0m                                Traceback (most recent call last)",
      "\u001B[0;32m/var/folders/2_/pxk81_z129n1wr4wvmhwxnk40000gn/T/ipykernel_69283/317520109.py\u001B[0m in \u001B[0;36m<module>\u001B[0;34m\u001B[0m\n\u001B[1;32m      1\u001B[0m \u001B[0mk\u001B[0m\u001B[0;34m,\u001B[0m \u001B[0mnum_epochs\u001B[0m\u001B[0;34m,\u001B[0m \u001B[0mlr\u001B[0m\u001B[0;34m,\u001B[0m \u001B[0mweight_decay\u001B[0m\u001B[0;34m,\u001B[0m \u001B[0mbatch_size\u001B[0m \u001B[0;34m=\u001B[0m \u001B[0;36m5\u001B[0m\u001B[0;34m,\u001B[0m \u001B[0;36m100\u001B[0m\u001B[0;34m,\u001B[0m \u001B[0;36m5\u001B[0m\u001B[0;34m,\u001B[0m \u001B[0;36m0\u001B[0m\u001B[0;34m,\u001B[0m \u001B[0;36m64\u001B[0m\u001B[0;34m\u001B[0m\u001B[0;34m\u001B[0m\u001B[0m\n\u001B[0;32m----> 2\u001B[0;31m \u001B[0mk_fold\u001B[0m\u001B[0;34m(\u001B[0m\u001B[0mk\u001B[0m\u001B[0;34m,\u001B[0m \u001B[0mtrain_features\u001B[0m\u001B[0;34m,\u001B[0m \u001B[0mtrain_labels\u001B[0m\u001B[0;34m,\u001B[0m \u001B[0mnum_epochs\u001B[0m\u001B[0;34m,\u001B[0m \u001B[0mlr\u001B[0m\u001B[0;34m,\u001B[0m\u001B[0mweight_decay\u001B[0m\u001B[0;34m,\u001B[0m \u001B[0mbatch_size\u001B[0m\u001B[0;34m)\u001B[0m\u001B[0;34m\u001B[0m\u001B[0;34m\u001B[0m\u001B[0m\n\u001B[0m",
      "\u001B[0;32m/var/folders/2_/pxk81_z129n1wr4wvmhwxnk40000gn/T/ipykernel_69283/595269077.py\u001B[0m in \u001B[0;36mk_fold\u001B[0;34m(k, X_train, y_train, num_epochs, learning_rate, weight_decay, batch_size)\u001B[0m\n\u001B[1;32m     10\u001B[0m                     optimizer=tf.keras.optimizers.Adam(learning_rate))\n\u001B[1;32m     11\u001B[0m         \u001B[0;31m# Fit the model\u001B[0m\u001B[0;34m\u001B[0m\u001B[0;34m\u001B[0m\u001B[0;34m\u001B[0m\u001B[0m\n\u001B[0;32m---> 12\u001B[0;31m         \u001B[0mhistory\u001B[0m\u001B[0;34m=\u001B[0m\u001B[0mnet\u001B[0m\u001B[0;34m.\u001B[0m\u001B[0mfit\u001B[0m\u001B[0;34m(\u001B[0m\u001B[0mdata\u001B[0m\u001B[0;34m[\u001B[0m\u001B[0;36m0\u001B[0m\u001B[0;34m]\u001B[0m\u001B[0;34m,\u001B[0m \u001B[0mdata\u001B[0m\u001B[0;34m[\u001B[0m\u001B[0;36m1\u001B[0m\u001B[0;34m]\u001B[0m\u001B[0;34m,\u001B[0m \u001B[0mvalidation_data\u001B[0m\u001B[0;34m=\u001B[0m\u001B[0;34m(\u001B[0m\u001B[0mdata\u001B[0m\u001B[0;34m[\u001B[0m\u001B[0;36m2\u001B[0m\u001B[0;34m]\u001B[0m\u001B[0;34m,\u001B[0m \u001B[0mdata\u001B[0m\u001B[0;34m[\u001B[0m\u001B[0;36m3\u001B[0m\u001B[0;34m]\u001B[0m\u001B[0;34m)\u001B[0m\u001B[0;34m,\u001B[0m \u001B[0mepochs\u001B[0m\u001B[0;34m=\u001B[0m\u001B[0mnum_epochs\u001B[0m\u001B[0;34m,\u001B[0m \u001B[0mbatch_size\u001B[0m\u001B[0;34m=\u001B[0m\u001B[0mbatch_size\u001B[0m\u001B[0;34m,\u001B[0m \u001B[0mvalidation_freq\u001B[0m\u001B[0;34m=\u001B[0m\u001B[0;36m1\u001B[0m\u001B[0;34m,\u001B[0m\u001B[0mverbose\u001B[0m\u001B[0;34m=\u001B[0m\u001B[0;36m0\u001B[0m\u001B[0;34m)\u001B[0m\u001B[0;34m\u001B[0m\u001B[0;34m\u001B[0m\u001B[0m\n\u001B[0m\u001B[1;32m     13\u001B[0m         \u001B[0mloss\u001B[0m \u001B[0;34m=\u001B[0m \u001B[0mhistory\u001B[0m\u001B[0;34m.\u001B[0m\u001B[0mhistory\u001B[0m\u001B[0;34m[\u001B[0m\u001B[0;34m'loss'\u001B[0m\u001B[0;34m]\u001B[0m\u001B[0;34m\u001B[0m\u001B[0;34m\u001B[0m\u001B[0m\n\u001B[1;32m     14\u001B[0m         \u001B[0mval_loss\u001B[0m \u001B[0;34m=\u001B[0m \u001B[0mhistory\u001B[0m\u001B[0;34m.\u001B[0m\u001B[0mhistory\u001B[0m\u001B[0;34m[\u001B[0m\u001B[0;34m'loss'\u001B[0m\u001B[0;34m]\u001B[0m\u001B[0;34m\u001B[0m\u001B[0;34m\u001B[0m\u001B[0m\n",
      "\u001B[0;32m~/opt/anaconda3/envs/cs224n/lib/python3.7/site-packages/tensorflow_core/python/keras/engine/training.py\u001B[0m in \u001B[0;36mfit\u001B[0;34m(self, x, y, batch_size, epochs, verbose, callbacks, validation_split, validation_data, shuffle, class_weight, sample_weight, initial_epoch, steps_per_epoch, validation_steps, validation_freq, max_queue_size, workers, use_multiprocessing, **kwargs)\u001B[0m\n\u001B[1;32m    726\u001B[0m         \u001B[0mmax_queue_size\u001B[0m\u001B[0;34m=\u001B[0m\u001B[0mmax_queue_size\u001B[0m\u001B[0;34m,\u001B[0m\u001B[0;34m\u001B[0m\u001B[0;34m\u001B[0m\u001B[0m\n\u001B[1;32m    727\u001B[0m         \u001B[0mworkers\u001B[0m\u001B[0;34m=\u001B[0m\u001B[0mworkers\u001B[0m\u001B[0;34m,\u001B[0m\u001B[0;34m\u001B[0m\u001B[0;34m\u001B[0m\u001B[0m\n\u001B[0;32m--> 728\u001B[0;31m         use_multiprocessing=use_multiprocessing)\n\u001B[0m\u001B[1;32m    729\u001B[0m \u001B[0;34m\u001B[0m\u001B[0m\n\u001B[1;32m    730\u001B[0m   def evaluate(self,\n",
      "\u001B[0;32m~/opt/anaconda3/envs/cs224n/lib/python3.7/site-packages/tensorflow_core/python/keras/engine/training_v2.py\u001B[0m in \u001B[0;36mfit\u001B[0;34m(self, model, x, y, batch_size, epochs, verbose, callbacks, validation_split, validation_data, shuffle, class_weight, sample_weight, initial_epoch, steps_per_epoch, validation_steps, validation_freq, **kwargs)\u001B[0m\n\u001B[1;32m    222\u001B[0m           \u001B[0mvalidation_data\u001B[0m\u001B[0;34m=\u001B[0m\u001B[0mvalidation_data\u001B[0m\u001B[0;34m,\u001B[0m\u001B[0;34m\u001B[0m\u001B[0;34m\u001B[0m\u001B[0m\n\u001B[1;32m    223\u001B[0m           \u001B[0mvalidation_steps\u001B[0m\u001B[0;34m=\u001B[0m\u001B[0mvalidation_steps\u001B[0m\u001B[0;34m,\u001B[0m\u001B[0;34m\u001B[0m\u001B[0;34m\u001B[0m\u001B[0m\n\u001B[0;32m--> 224\u001B[0;31m           distribution_strategy=strategy)\n\u001B[0m\u001B[1;32m    225\u001B[0m \u001B[0;34m\u001B[0m\u001B[0m\n\u001B[1;32m    226\u001B[0m       \u001B[0mtotal_samples\u001B[0m \u001B[0;34m=\u001B[0m \u001B[0m_get_total_number_of_samples\u001B[0m\u001B[0;34m(\u001B[0m\u001B[0mtraining_data_adapter\u001B[0m\u001B[0;34m)\u001B[0m\u001B[0;34m\u001B[0m\u001B[0;34m\u001B[0m\u001B[0m\n",
      "\u001B[0;32m~/opt/anaconda3/envs/cs224n/lib/python3.7/site-packages/tensorflow_core/python/keras/engine/training_v2.py\u001B[0m in \u001B[0;36m_process_training_inputs\u001B[0;34m(model, x, y, batch_size, epochs, sample_weights, class_weights, steps_per_epoch, validation_split, validation_data, validation_steps, shuffle, distribution_strategy, max_queue_size, workers, use_multiprocessing)\u001B[0m\n\u001B[1;32m    545\u001B[0m         \u001B[0mmax_queue_size\u001B[0m\u001B[0;34m=\u001B[0m\u001B[0mmax_queue_size\u001B[0m\u001B[0;34m,\u001B[0m\u001B[0;34m\u001B[0m\u001B[0;34m\u001B[0m\u001B[0m\n\u001B[1;32m    546\u001B[0m         \u001B[0mworkers\u001B[0m\u001B[0;34m=\u001B[0m\u001B[0mworkers\u001B[0m\u001B[0;34m,\u001B[0m\u001B[0;34m\u001B[0m\u001B[0;34m\u001B[0m\u001B[0m\n\u001B[0;32m--> 547\u001B[0;31m         use_multiprocessing=use_multiprocessing)\n\u001B[0m\u001B[1;32m    548\u001B[0m     \u001B[0mval_adapter\u001B[0m \u001B[0;34m=\u001B[0m \u001B[0;32mNone\u001B[0m\u001B[0;34m\u001B[0m\u001B[0;34m\u001B[0m\u001B[0m\n\u001B[1;32m    549\u001B[0m     \u001B[0;32mif\u001B[0m \u001B[0mvalidation_data\u001B[0m\u001B[0;34m:\u001B[0m\u001B[0;34m\u001B[0m\u001B[0;34m\u001B[0m\u001B[0m\n",
      "\u001B[0;32m~/opt/anaconda3/envs/cs224n/lib/python3.7/site-packages/tensorflow_core/python/keras/engine/training_v2.py\u001B[0m in \u001B[0;36m_process_inputs\u001B[0;34m(model, x, y, batch_size, epochs, sample_weights, class_weights, shuffle, steps, distribution_strategy, max_queue_size, workers, use_multiprocessing)\u001B[0m\n\u001B[1;32m    592\u001B[0m         \u001B[0mbatch_size\u001B[0m\u001B[0;34m=\u001B[0m\u001B[0mbatch_size\u001B[0m\u001B[0;34m,\u001B[0m\u001B[0;34m\u001B[0m\u001B[0;34m\u001B[0m\u001B[0m\n\u001B[1;32m    593\u001B[0m         \u001B[0mcheck_steps\u001B[0m\u001B[0;34m=\u001B[0m\u001B[0;32mFalse\u001B[0m\u001B[0;34m,\u001B[0m\u001B[0;34m\u001B[0m\u001B[0;34m\u001B[0m\u001B[0m\n\u001B[0;32m--> 594\u001B[0;31m         steps=steps)\n\u001B[0m\u001B[1;32m    595\u001B[0m   adapter = adapter_cls(\n\u001B[1;32m    596\u001B[0m       \u001B[0mx\u001B[0m\u001B[0;34m,\u001B[0m\u001B[0;34m\u001B[0m\u001B[0;34m\u001B[0m\u001B[0m\n",
      "\u001B[0;32m~/opt/anaconda3/envs/cs224n/lib/python3.7/site-packages/tensorflow_core/python/keras/engine/training.py\u001B[0m in \u001B[0;36m_standardize_user_data\u001B[0;34m(self, x, y, sample_weight, class_weight, batch_size, check_steps, steps_name, steps, validation_split, shuffle, extract_tensors_from_dataset)\u001B[0m\n\u001B[1;32m   2431\u001B[0m     \u001B[0mis_compile_called\u001B[0m \u001B[0;34m=\u001B[0m \u001B[0;32mFalse\u001B[0m\u001B[0;34m\u001B[0m\u001B[0;34m\u001B[0m\u001B[0m\n\u001B[1;32m   2432\u001B[0m     \u001B[0;32mif\u001B[0m \u001B[0;32mnot\u001B[0m \u001B[0mself\u001B[0m\u001B[0;34m.\u001B[0m\u001B[0m_is_compiled\u001B[0m \u001B[0;32mand\u001B[0m \u001B[0mself\u001B[0m\u001B[0;34m.\u001B[0m\u001B[0moptimizer\u001B[0m\u001B[0;34m:\u001B[0m\u001B[0;34m\u001B[0m\u001B[0;34m\u001B[0m\u001B[0m\n\u001B[0;32m-> 2433\u001B[0;31m       \u001B[0mself\u001B[0m\u001B[0;34m.\u001B[0m\u001B[0m_compile_from_inputs\u001B[0m\u001B[0;34m(\u001B[0m\u001B[0mall_inputs\u001B[0m\u001B[0;34m,\u001B[0m \u001B[0my_input\u001B[0m\u001B[0;34m,\u001B[0m \u001B[0mx\u001B[0m\u001B[0;34m,\u001B[0m \u001B[0my\u001B[0m\u001B[0;34m)\u001B[0m\u001B[0;34m\u001B[0m\u001B[0;34m\u001B[0m\u001B[0m\n\u001B[0m\u001B[1;32m   2434\u001B[0m       \u001B[0mis_compile_called\u001B[0m \u001B[0;34m=\u001B[0m \u001B[0;32mTrue\u001B[0m\u001B[0;34m\u001B[0m\u001B[0;34m\u001B[0m\u001B[0m\n\u001B[1;32m   2435\u001B[0m \u001B[0;34m\u001B[0m\u001B[0m\n",
      "\u001B[0;32m~/opt/anaconda3/envs/cs224n/lib/python3.7/site-packages/tensorflow_core/python/keras/engine/training.py\u001B[0m in \u001B[0;36m_compile_from_inputs\u001B[0;34m(self, all_inputs, target, orig_inputs, orig_target)\u001B[0m\n\u001B[1;32m   2642\u001B[0m                          \u001B[0;34m'TensorFlow tensors. '\u001B[0m\u001B[0;34m\u001B[0m\u001B[0;34m\u001B[0m\u001B[0m\n\u001B[1;32m   2643\u001B[0m                          \u001B[0;34m'You passed: x='\u001B[0m \u001B[0;34m+\u001B[0m \u001B[0mstr\u001B[0m\u001B[0;34m(\u001B[0m\u001B[0morig_inputs\u001B[0m\u001B[0;34m)\u001B[0m \u001B[0;34m+\u001B[0m\u001B[0;34m\u001B[0m\u001B[0;34m\u001B[0m\u001B[0m\n\u001B[0;32m-> 2644\u001B[0;31m                          '; y=' + str(orig_target))\n\u001B[0m\u001B[1;32m   2645\u001B[0m     is_dataset = isinstance(orig_inputs, (dataset_ops.DatasetV1,\n\u001B[1;32m   2646\u001B[0m                                           \u001B[0mdataset_ops\u001B[0m\u001B[0;34m.\u001B[0m\u001B[0mDatasetV2\u001B[0m\u001B[0;34m,\u001B[0m\u001B[0;34m\u001B[0m\u001B[0;34m\u001B[0m\u001B[0m\n",
      "\u001B[0;31mValueError\u001B[0m: Do not pass inputs that mix Numpy arrays and TensorFlow tensors. You passed: x=tf.Tensor(\n[[-1.67876685e-01 -4.36638724e-01  1.57333142e-01 ...  1.00000000e+00\n   0.00000000e+00  0.00000000e+00]\n [ 6.73198800e-02  1.86279879e-16  8.22985789e-01 ...  1.00000000e+00\n   0.00000000e+00  0.00000000e+00]\n [-8.73466378e-01  5.01784504e-01 -7.20317411e-02 ...  1.00000000e+00\n   0.00000000e+00  0.00000000e+00]\n ...\n [ 3.02516445e-01 -1.55111755e-01 -1.42781108e-01 ...  1.00000000e+00\n   0.00000000e+00  0.00000000e+00]\n [-8.73466378e-01 -6.12694327e-02 -5.71971965e-02 ...  1.00000000e+00\n   0.00000000e+00  0.00000000e+00]\n [-8.73466378e-01  2.67178697e-01 -2.93031808e-02 ...  1.00000000e+00\n   0.00000000e+00  0.00000000e+00]], shape=(1168, 354), dtype=float64); y=[[131000.]\n [235000.]\n [167000.]\n [142500.]\n [152000.]\n [239000.]\n [175000.]\n [158500.]\n [157000.]\n [267000.]\n [205000.]\n [149900.]\n [295000.]\n [305900.]\n [225000.]\n [ 89500.]\n [ 82500.]\n [360000.]\n [165600.]\n [132000.]\n [119900.]\n [375000.]\n [178000.]\n [188500.]\n [260000.]\n [270000.]\n [260000.]\n [187500.]\n [342643.]\n [354000.]\n [301000.]\n [126175.]\n [242000.]\n [ 87000.]\n [324000.]\n [145250.]\n [214500.]\n [ 78000.]\n [119000.]\n [139000.]\n [284000.]\n [207000.]\n [192000.]\n [228950.]\n [377426.]\n [214000.]\n [202500.]\n [155000.]\n [202900.]\n [ 82000.]\n [ 87500.]\n [266000.]\n [ 85000.]\n [140200.]\n [151500.]\n [157500.]\n [154000.]\n [437154.]\n [318061.]\n [190000.]\n [ 95000.]\n [105900.]\n [140000.]\n [177500.]\n [173000.]\n [134000.]\n [130000.]\n [280000.]\n [156000.]\n [145000.]\n [198500.]\n [118000.]\n [190000.]\n [147000.]\n [159000.]\n [165000.]\n [132000.]\n [162000.]\n [172400.]\n [134432.]\n [125000.]\n [123000.]\n [219500.]\n [ 61000.]\n [148000.]\n [340000.]\n [394432.]\n [179000.]\n [127000.]\n [187750.]\n [213500.]\n [ 76000.]\n [240000.]\n [192000.]\n [ 81000.]\n [125000.]\n [191000.]\n [426000.]\n [119000.]\n [215000.]\n [106500.]\n [100000.]\n [109000.]\n [129000.]\n [123000.]\n [169500.]\n [ 67000.]\n [241000.]\n [245500.]\n [164990.]\n [108000.]\n [258000.]\n [168000.]\n [150000.]\n [115000.]\n [177000.]\n [280000.]\n [339750.]\n [ 60000.]\n [145000.]\n [222000.]\n [115000.]\n [228000.]\n [181134.]\n [149500.]\n [239000.]\n [126000.]\n [142000.]\n [206300.]\n [215000.]\n [113000.]\n [315000.]\n [139000.]\n [135000.]\n [275000.]\n [109008.]\n [195400.]\n [175000.]\n [ 85400.]\n [ 79900.]\n [122500.]\n [181000.]\n [ 81000.]\n [212000.]\n [116000.]\n [119000.]\n [ 90350.]\n [110000.]\n [555000.]\n [118000.]\n [162900.]\n [172500.]\n [210000.]\n [127500.]\n [190000.]\n [199900.]\n [119500.]\n [120000.]\n [110000.]\n [280000.]\n [204000.]\n [210000.]\n [188000.]\n [175500.]\n [ 98000.]\n [256000.]\n [161000.]\n [110000.]\n [263435.]\n [155000.]\n [ 62383.]\n [188700.]\n [124000.]\n [178740.]\n [167000.]\n [146500.]\n [250000.]\n [187000.]\n [212000.]\n [190000.]\n [148000.]\n [440000.]\n [251000.]\n [132500.]\n [208900.]\n [380000.]\n [297000.]\n [ 89471.]\n [326000.]\n [374000.]\n [155000.]\n [164000.]\n [132500.]\n [147000.]\n [156000.]\n [175000.]\n [160000.]\n [ 86000.]\n [115000.]\n [133000.]\n [172785.]\n [155000.]\n [ 91300.]\n [ 34900.]\n [430000.]\n [184000.]\n [130000.]\n [120000.]\n [113000.]\n [226700.]\n [140000.]\n [289000.]\n [147000.]\n [124500.]\n [215000.]\n [208300.]\n [161000.]\n [124500.]\n [164900.]\n [202665.]\n [129900.]\n [134000.]\n [ 96500.]\n [402861.]\n [158000.]\n [265000.]\n [211000.]\n [234000.]\n [106250.]\n [150000.]\n [159000.]\n [184750.]\n [315750.]\n [176000.]\n [132000.]\n [446261.]\n [ 86000.]\n [200624.]\n [175000.]\n [128000.]\n [107500.]\n [ 39300.]\n [178000.]\n [107500.]\n [188000.]\n [111250.]\n [158000.]\n [272000.]\n [315000.]\n [248000.]\n [213250.]\n [133000.]\n [179665.]\n [229000.]\n [210000.]\n [129500.]\n [125000.]\n [263000.]\n [140000.]\n [112500.]\n [255500.]\n [108000.]\n [284000.]\n [113000.]\n [141000.]\n [108000.]\n [175000.]\n [234000.]\n [121500.]\n [170000.]\n [108000.]\n [185000.]\n [268000.]\n [128000.]\n [325000.]\n [214000.]\n [316600.]\n [135960.]\n [142600.]\n [120000.]\n [224500.]\n [170000.]\n [139000.]\n [118500.]\n [145000.]\n [164500.]\n [146000.]\n [131500.]\n [181900.]\n [253293.]\n [118500.]\n [325000.]]"
     ]
    }
   ],
   "source": [
    "k, num_epochs, lr, weight_decay, batch_size = 5, 100, 5, 0, 64\n",
    "k_fold(k, train_features, train_labels, num_epochs, lr,weight_decay, batch_size)"
   ],
   "metadata": {
    "collapsed": false,
    "pycharm": {
     "name": "#%%\n"
    }
   }
  },
  {
   "cell_type": "markdown",
   "source": [
    "## 3.16.7 预测并在Kaggle提交结果 ##"
   ],
   "metadata": {
    "collapsed": false,
    "pycharm": {
     "name": "#%% md\n"
    }
   }
  },
  {
   "cell_type": "code",
   "execution_count": 40,
   "outputs": [],
   "source": [
    "x_train = tf.convert_to_tensor(train_features, dtype=tf.float32)\n",
    "y_train = tf.convert_to_tensor(train_labels, dtype=tf.float32)\n",
    "x_test = tf.convert_to_tensor(test_features, dtype=tf.float32)\n",
    "x_test = tf.convert_to_tensor(test_features, dtype=tf.float32)\n",
    "model=tf.keras.models.Sequential([\n",
    "    tf.keras.layers.Dense(1)\n",
    "])\n",
    "adam = tf.keras.optimizers.Adam(0.5)\n",
    "model.compile(optimizer=adam,\n",
    "              loss=tf.keras.losses.mean_squared_logarithmic_error)\n",
    "model.fit(x_train, y_train, epochs=200, batch_size=32, verbose=0)\n",
    "preds=np.array(model.predict(x_test))\n",
    "test_data[\"SalePrice\"] = pd.Series(preds.reshape(1, -1)[0])\n",
    "submission = pd.concat([test_data[\"Id\"], test_data[\"SalePrice\"]], axis=1)\n",
    "submission.to_csv('submission.csv', index=False)"
   ],
   "metadata": {
    "collapsed": false,
    "pycharm": {
     "name": "#%%\n"
    }
   }
  },
  {
   "cell_type": "code",
   "execution_count": null,
   "outputs": [],
   "source": [],
   "metadata": {
    "collapsed": false,
    "pycharm": {
     "name": "#%%\n"
    }
   }
  },
  {
   "cell_type": "code",
   "execution_count": null,
   "outputs": [],
   "source": [],
   "metadata": {
    "collapsed": false,
    "pycharm": {
     "name": "#%%\n"
    }
   }
  },
  {
   "cell_type": "code",
   "execution_count": null,
   "outputs": [],
   "source": [],
   "metadata": {
    "collapsed": false,
    "pycharm": {
     "name": "#%%\n"
    }
   }
  },
  {
   "cell_type": "code",
   "execution_count": null,
   "outputs": [],
   "source": [],
   "metadata": {
    "collapsed": false,
    "pycharm": {
     "name": "#%%\n"
    }
   }
  },
  {
   "cell_type": "code",
   "execution_count": null,
   "outputs": [],
   "source": [],
   "metadata": {
    "collapsed": false,
    "pycharm": {
     "name": "#%%\n"
    }
   }
  }
 ],
 "metadata": {
  "kernelspec": {
   "display_name": "Python 3",
   "language": "python",
   "name": "python3"
  },
  "language_info": {
   "codemirror_mode": {
    "name": "ipython",
    "version": 2
   },
   "file_extension": ".py",
   "mimetype": "text/x-python",
   "name": "python",
   "nbconvert_exporter": "python",
   "pygments_lexer": "ipython2",
   "version": "2.7.6"
  }
 },
 "nbformat": 4,
 "nbformat_minor": 0
}