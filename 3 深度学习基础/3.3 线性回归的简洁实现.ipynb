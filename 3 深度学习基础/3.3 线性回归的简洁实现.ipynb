{
 "cells": [
  {
   "cell_type": "code",
   "execution_count": 1,
   "metadata": {
    "collapsed": true
   },
   "outputs": [],
   "source": [
    "import tensorflow as tf"
   ]
  },
  {
   "cell_type": "code",
   "execution_count": 6,
   "outputs": [
    {
     "name": "stderr",
     "output_type": "stream",
     "text": [
      "2022-04-07 16:22:46.727050: I tensorflow/core/platform/cpu_feature_guard.cc:145] This TensorFlow binary is optimized with Intel(R) MKL-DNN to use the following CPU instructions in performance critical operations:  SSE4.1 SSE4.2\n",
      "To enable them in non-MKL-DNN operations, rebuild TensorFlow with the appropriate compiler flags.\n",
      "2022-04-07 16:22:46.727927: I tensorflow/core/common_runtime/process_util.cc:115] Creating new thread pool with default inter op setting: 8. Tune using inter_op_parallelism_threads for best performance.\n"
     ]
    }
   ],
   "source": [
    "# 3.3.1 生成数据集\n",
    "num_inputs = 2\n",
    "num_examples = 1000\n",
    "true_w = [2, -3.4]\n",
    "true_b = 4.2\n",
    "# 生成X\n",
    "features = tf.random.normal((num_examples, num_inputs), stddev=1)\n",
    "# 生成y\n",
    "labels = true_w[0] * features[:,0] + true_w[1] * features[:,1] + true_b\n",
    "# 加上噪声\n",
    "labels += tf.random.normal(labels.shape, stddev=0.01)\n",
    "# features的每一行是长度为2的向量，而lablels的每一行是一个长度为1的向量（标量）\n"
   ],
   "metadata": {
    "collapsed": false,
    "pycharm": {
     "name": "#%%\n"
    }
   }
  },
  {
   "cell_type": "code",
   "execution_count": 7,
   "outputs": [
    {
     "name": "stdout",
     "output_type": "stream",
     "text": [
      "tf.Tensor(\n",
      "[[ 1.9801545   0.28648812]\n",
      " [-1.1141671   0.07752962]\n",
      " [ 1.8002766   0.6286295 ]\n",
      " [-0.8636981  -0.48647034]\n",
      " [ 1.4503883   1.8294076 ]\n",
      " [ 0.7715016   0.14329799]\n",
      " [-1.0409961   0.54246694]\n",
      " [ 0.69592255 -0.735941  ]\n",
      " [-0.9899787   0.52541214]\n",
      " [-0.30471757  1.4439908 ]], shape=(10, 2), dtype=float32) tf.Tensor(\n",
      "[ 7.182835    1.7167048   5.6569357   4.144114    0.8862296   5.2446136\n",
      "  0.2783067   8.071374    0.42869046 -1.3098644 ], shape=(10,), dtype=float32)\n"
     ]
    }
   ],
   "source": [
    "# 3.3.2 读取数据（这一步可以省略）\n",
    "from tensorflow import data as tfdata\n",
    "batch_size = 10\n",
    "# 将训练数据的特征和标签组合\n",
    "dataset = tfdata.Dataset.from_tensor_slices((features, labels))\n",
    "# 随机读取小批量\n",
    "dataset = dataset.shuffle(buffer_size=num_examples)\n",
    "# buffer_size参数应大于等于样本数\n",
    "dataset = dataset.batch(batch_size)\n",
    "data_iter = iter(dataset)\n",
    "\n",
    "for (batch, (X, y)) in enumerate(dataset):\n",
    "    print(X, y)\n",
    "    break"
   ],
   "metadata": {
    "collapsed": false,
    "pycharm": {
     "name": "#%%\n"
    }
   }
  },
  {
   "cell_type": "code",
   "execution_count": 8,
   "outputs": [],
   "source": [
    "# 3.3.3 定义模型和初始化参数\n",
    "from tensorflow import keras\n",
    "from tensorflow.keras import layers\n",
    "from tensorflow import initializers as init\n",
    "model = keras.Sequential()\n",
    "model.add(layers.Dense(1, kernel_initializer=init.RandomNormal(stddev=0.01)))"
   ],
   "metadata": {
    "collapsed": false,
    "pycharm": {
     "name": "#%%\n"
    }
   }
  },
  {
   "cell_type": "code",
   "execution_count": 9,
   "outputs": [],
   "source": [
    "# 3.3.4 定义损失函数\n",
    "from tensorflow import losses\n",
    "loss = losses.MeanSquaredError()"
   ],
   "metadata": {
    "collapsed": false,
    "pycharm": {
     "name": "#%%\n"
    }
   }
  },
  {
   "cell_type": "code",
   "execution_count": 13,
   "outputs": [],
   "source": [
    "# 3.3.5 定义优化函数\n",
    "from tensorflow.keras import optimizers\n",
    "trainer = optimizers.SGD(learning_rate=0.03)\n"
   ],
   "metadata": {
    "collapsed": false,
    "pycharm": {
     "name": "#%%\n"
    }
   }
  },
  {
   "cell_type": "code",
   "execution_count": 16,
   "outputs": [
    {
     "name": "stdout",
     "output_type": "stream",
     "text": [
      "epoch 1. loss: 0.000103\n",
      "epoch 2. loss: 0.000104\n",
      "epoch 3. loss: 0.000103\n"
     ]
    }
   ],
   "source": [
    "# 3.3.6 训练模型\n",
    "num_epoches = 3\n",
    "for epoch in range(1, num_epoches + 1):\n",
    "    for (batch, (X,y)) in enumerate(dataset):\n",
    "        # 调用tensorflow.GradientTape记录动态图梯度\n",
    "        with tf.GradientTape() as tape:\n",
    "            l = loss(model(X, training=True), y)\n",
    "        # 执行tape.gradient获得动态图中各变量梯度\n",
    "        grads = tape.gradient(l, model.trainable_variables)\n",
    "        # trainer.apply_gradient更新权重, 完成一步训练。\n",
    "        trainer.apply_gradients(zip(grads, model.trainable_variables))\n",
    "\n",
    "    l = loss(model(features), labels)\n",
    "    print('epoch %d. loss: %f' %(epoch, l))"
   ],
   "metadata": {
    "collapsed": false,
    "pycharm": {
     "name": "#%%\n"
    }
   }
  },
  {
   "cell_type": "code",
   "execution_count": 18,
   "outputs": [
    {
     "data": {
      "text/plain": "([2, -3.4],\n array([[ 2.0002832],\n        [-3.40012  ]], dtype=float32))"
     },
     "execution_count": 18,
     "metadata": {},
     "output_type": "execute_result"
    }
   ],
   "source": [
    "# 比较学到的模型参数和真实的模型参数\n",
    "true_w, model.get_weights()[0]"
   ],
   "metadata": {
    "collapsed": false,
    "pycharm": {
     "name": "#%%\n"
    }
   }
  },
  {
   "cell_type": "code",
   "execution_count": 19,
   "outputs": [
    {
     "data": {
      "text/plain": "(4.2, array([4.200269], dtype=float32))"
     },
     "execution_count": 19,
     "metadata": {},
     "output_type": "execute_result"
    }
   ],
   "source": [
    "true_b, model.get_weights()[1]"
   ],
   "metadata": {
    "collapsed": false,
    "pycharm": {
     "name": "#%%\n"
    }
   }
  },
  {
   "cell_type": "code",
   "execution_count": null,
   "outputs": [],
   "source": [],
   "metadata": {
    "collapsed": false,
    "pycharm": {
     "name": "#%%\n"
    }
   }
  },
  {
   "cell_type": "code",
   "execution_count": null,
   "outputs": [],
   "source": [],
   "metadata": {
    "collapsed": false,
    "pycharm": {
     "name": "#%%\n"
    }
   }
  },
  {
   "cell_type": "markdown",
   "source": [],
   "metadata": {
    "collapsed": false
   }
  },
  {
   "cell_type": "code",
   "execution_count": null,
   "outputs": [],
   "source": [],
   "metadata": {
    "collapsed": false,
    "pycharm": {
     "name": "#%%\n"
    }
   }
  },
  {
   "cell_type": "code",
   "execution_count": null,
   "outputs": [],
   "source": [],
   "metadata": {
    "collapsed": false,
    "pycharm": {
     "name": "#%%\n"
    }
   }
  },
  {
   "cell_type": "code",
   "execution_count": null,
   "outputs": [],
   "source": [],
   "metadata": {
    "collapsed": false,
    "pycharm": {
     "name": "#%%\n"
    }
   }
  }
 ],
 "metadata": {
  "kernelspec": {
   "display_name": "Python 3",
   "language": "python",
   "name": "python3"
  },
  "language_info": {
   "codemirror_mode": {
    "name": "ipython",
    "version": 2
   },
   "file_extension": ".py",
   "mimetype": "text/x-python",
   "name": "python",
   "nbconvert_exporter": "python",
   "pygments_lexer": "ipython2",
   "version": "2.7.6"
  }
 },
 "nbformat": 4,
 "nbformat_minor": 0
}