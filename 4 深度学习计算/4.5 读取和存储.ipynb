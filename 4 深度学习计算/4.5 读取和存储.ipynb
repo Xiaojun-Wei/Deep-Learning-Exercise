{
 "cells": [
  {
   "cell_type": "code",
   "execution_count": 4,
   "metadata": {
    "collapsed": true
   },
   "outputs": [],
   "source": [
    "import tensorflow as tf\n",
    "import numpy as np"
   ]
  },
  {
   "cell_type": "markdown",
   "source": [
    "# 4.5.1 Load and save NDarray #"
   ],
   "metadata": {
    "collapsed": false,
    "pycharm": {
     "name": "#%% md\n"
    }
   }
  },
  {
   "cell_type": "code",
   "execution_count": 5,
   "outputs": [
    {
     "data": {
      "text/plain": "<tf.Tensor: id=5, shape=(3,), dtype=float32, numpy=array([1., 1., 1.], dtype=float32)>"
     },
     "execution_count": 5,
     "metadata": {},
     "output_type": "execute_result"
    }
   ],
   "source": [
    "x = tf.ones(3)\n",
    "x"
   ],
   "metadata": {
    "collapsed": false,
    "pycharm": {
     "name": "#%%\n"
    }
   }
  },
  {
   "cell_type": "code",
   "execution_count": 6,
   "outputs": [
    {
     "data": {
      "text/plain": "array([1., 1., 1.], dtype=float32)"
     },
     "execution_count": 6,
     "metadata": {},
     "output_type": "execute_result"
    }
   ],
   "source": [
    "# 用save函数和load函数分别存储和读取\n",
    "np.save('x.npy', x)\n",
    "x2 = np.load('x.npy')\n",
    "x2"
   ],
   "metadata": {
    "collapsed": false,
    "pycharm": {
     "name": "#%%\n"
    }
   }
  },
  {
   "cell_type": "code",
   "execution_count": 7,
   "outputs": [
    {
     "name": "stderr",
     "output_type": "stream",
     "text": [
      "/Users/xiaojun/opt/anaconda3/envs/cs224n/lib/python3.7/site-packages/numpy/lib/npyio.py:528: VisibleDeprecationWarning: Creating an ndarray from ragged nested sequences (which is a list-or-tuple of lists-or-tuples-or ndarrays with different lengths or shapes) is deprecated. If you meant to do this, you must specify 'dtype=object' when creating the ndarray.\n",
      "  arr = np.asanyarray(arr)\n"
     ]
    },
    {
     "data": {
      "text/plain": "(<tf.Tensor: id=9, shape=(3,), dtype=float32, numpy=array([1., 1., 1.], dtype=float32)>,\n <tf.Tensor: id=10, shape=(4,), dtype=float32, numpy=array([0., 0., 0., 0.], dtype=float32)>)"
     },
     "execution_count": 7,
     "metadata": {},
     "output_type": "execute_result"
    }
   ],
   "source": [
    "y = tf.zeros(4)\n",
    "np.save('xy.npy',[x,y])\n",
    "x2, y2 = np.load('xy.npy', allow_pickle=True)\n",
    "(x2, y2)"
   ],
   "metadata": {
    "collapsed": false,
    "pycharm": {
     "name": "#%%\n"
    }
   }
  },
  {
   "cell_type": "code",
   "execution_count": 8,
   "outputs": [
    {
     "data": {
      "text/plain": "array({'x': <tf.Tensor: id=11, shape=(3,), dtype=float32, numpy=array([1., 1., 1.], dtype=float32)>, 'y': <tf.Tensor: id=12, shape=(4,), dtype=float32, numpy=array([0., 0., 0., 0.], dtype=float32)>},\n      dtype=object)"
     },
     "execution_count": 8,
     "metadata": {},
     "output_type": "execute_result"
    }
   ],
   "source": [
    "mydict = {'x':x, 'y':y}\n",
    "np.save('mydict.npy', mydict)\n",
    "mydict2 = np.load('mydict.npy', allow_pickle=True)\n",
    "mydict2"
   ],
   "metadata": {
    "collapsed": false,
    "pycharm": {
     "name": "#%%\n"
    }
   }
  },
  {
   "cell_type": "markdown",
   "source": [
    "# 4.5.2 Load and save model params #"
   ],
   "metadata": {
    "collapsed": false,
    "pycharm": {
     "name": "#%% md\n"
    }
   }
  },
  {
   "cell_type": "code",
   "execution_count": 10,
   "outputs": [
    {
     "data": {
      "text/plain": "<tf.Tensor: id=18, shape=(2, 20), dtype=float32, numpy=\narray([[-0.7330995 , -0.56291944, -0.12986003, -0.12689024,  0.44113392,\n         1.1815944 , -1.3673354 , -0.08683849, -1.0950191 ,  0.9323007 ,\n         0.13934942,  1.2536501 ,  0.76669407, -0.02038318,  0.99946463,\n         1.1244991 ,  0.22590342,  0.05195363, -0.20577738, -0.46588022],\n       [-0.7152103 , -0.3720533 ,  0.4783927 , -0.672196  ,  1.0946252 ,\n         0.41737843,  0.44257852, -2.1226485 ,  1.1633978 , -0.19509715,\n         0.12431203, -1.3453567 , -0.48607233,  1.2110794 , -0.457814  ,\n         0.14652139, -0.3439856 ,  2.2889977 ,  1.8381584 , -3.2557578 ]],\n      dtype=float32)>"
     },
     "execution_count": 9,
     "metadata": {},
     "output_type": "execute_result"
    },
    {
     "data": {
      "text/plain": "<tf.Tensor: id=24, shape=(2, 20), dtype=float32, numpy=\narray([[ 0.31468707, -0.01868811, -0.33625886, -0.8351267 ,  1.3990133 ,\n        -0.48506647, -0.7327958 , -1.0225874 , -1.1517107 , -0.22568548,\n        -1.4988446 , -1.1472645 , -0.24808969, -1.1621238 , -0.29170945,\n        -0.94827676,  1.6446165 , -0.86166084,  0.90304327,  1.405199  ],\n       [ 0.41746575, -1.9466873 , -1.2020857 ,  0.7294977 ,  0.14768293,\n         0.6693263 ,  1.0076245 , -1.7718576 , -1.2822614 ,  0.59196514,\n         0.14573814, -2.115315  ,  0.8629437 , -0.08186237,  1.7318906 ,\n         1.5209866 ,  0.42870387, -1.8893027 , -1.1273302 , -0.40710744]],\n      dtype=float32)>"
     },
     "execution_count": 10,
     "metadata": {},
     "output_type": "execute_result"
    }
   ],
   "source": [
    "X = tf.random.normal((2,20))\n",
    "X"
   ],
   "metadata": {
    "collapsed": false,
    "pycharm": {
     "name": "#%%\n"
    }
   }
  },
  {
   "cell_type": "code",
   "execution_count": 11,
   "outputs": [
    {
     "data": {
      "text/plain": "<tf.Tensor: id=80, shape=(2, 10), dtype=float32, numpy=\narray([[-0.25537172, -0.37910956,  0.5942322 ,  0.4787952 , -0.2525174 ,\n         0.35218835, -0.10567816, -0.16566163, -0.19861428, -0.29335722],\n       [-0.64237857, -0.66712224,  0.5723756 , -0.43678156, -0.17873357,\n        -0.23313092, -0.6624631 , -0.30150586,  0.23895317,  0.05852423]],\n      dtype=float32)>"
     },
     "execution_count": 11,
     "metadata": {},
     "output_type": "execute_result"
    }
   ],
   "source": [
    "class MLP(tf.keras.Model):\n",
    "    def __init__(self):\n",
    "        super().__init__()\n",
    "        # Flatten层将除第一维(batch_size)以外的维度展平\n",
    "        self.flatten = tf.keras.layers.Flatten()\n",
    "        self.dense1 = tf.keras.layers.Dense(units=256, activation=tf.nn.relu)\n",
    "        self.dense2 = tf.keras.layers.Dense(units=10)\n",
    "\n",
    "    def call(self, inputs):\n",
    "        x = self.flatten(inputs)\n",
    "        x = self.dense1(x)\n",
    "        output = self.dense2(x)\n",
    "        return output\n",
    "\n",
    "net = MLP()\n",
    "Y = net(X)\n",
    "Y"
   ],
   "metadata": {
    "collapsed": false,
    "pycharm": {
     "name": "#%%\n"
    }
   }
  },
  {
   "cell_type": "code",
   "execution_count": 12,
   "outputs": [],
   "source": [
    "net.save_weights(\"4.5saved_model.h5\")"
   ],
   "metadata": {
    "collapsed": false,
    "pycharm": {
     "name": "#%%\n"
    }
   }
  },
  {
   "cell_type": "code",
   "execution_count": 15,
   "outputs": [
    {
     "ename": "AttributeError",
     "evalue": "'str' object has no attribute 'decode'",
     "output_type": "error",
     "traceback": [
      "\u001B[0;31m---------------------------------------------------------------------------\u001B[0m",
      "\u001B[0;31mAttributeError\u001B[0m                            Traceback (most recent call last)",
      "\u001B[0;32m/var/folders/2_/pxk81_z129n1wr4wvmhwxnk40000gn/T/ipykernel_2950/390265307.py\u001B[0m in \u001B[0;36m<module>\u001B[0;34m\u001B[0m\n\u001B[1;32m      1\u001B[0m \u001B[0mnet2\u001B[0m \u001B[0;34m=\u001B[0m \u001B[0mMLP\u001B[0m\u001B[0;34m(\u001B[0m\u001B[0;34m)\u001B[0m\u001B[0;34m\u001B[0m\u001B[0;34m\u001B[0m\u001B[0m\n\u001B[1;32m      2\u001B[0m \u001B[0mnet2\u001B[0m\u001B[0;34m(\u001B[0m\u001B[0mX\u001B[0m\u001B[0;34m)\u001B[0m\u001B[0;34m\u001B[0m\u001B[0;34m\u001B[0m\u001B[0m\n\u001B[0;32m----> 3\u001B[0;31m \u001B[0mnet2\u001B[0m\u001B[0;34m.\u001B[0m\u001B[0mload_weights\u001B[0m\u001B[0;34m(\u001B[0m\u001B[0;34m\"4.5saved_model.h5\"\u001B[0m\u001B[0;34m)\u001B[0m\u001B[0;34m\u001B[0m\u001B[0;34m\u001B[0m\u001B[0m\n\u001B[0m\u001B[1;32m      4\u001B[0m \u001B[0mY2\u001B[0m \u001B[0;34m=\u001B[0m \u001B[0mnet2\u001B[0m\u001B[0;34m(\u001B[0m\u001B[0mX\u001B[0m\u001B[0;34m)\u001B[0m\u001B[0;34m\u001B[0m\u001B[0;34m\u001B[0m\u001B[0m\n\u001B[1;32m      5\u001B[0m \u001B[0mY2\u001B[0m \u001B[0;34m=\u001B[0m \u001B[0mY\u001B[0m\u001B[0;34m\u001B[0m\u001B[0;34m\u001B[0m\u001B[0m\n",
      "\u001B[0;32m~/opt/anaconda3/envs/cs224n/lib/python3.7/site-packages/tensorflow_core/python/keras/engine/training.py\u001B[0m in \u001B[0;36mload_weights\u001B[0;34m(self, filepath, by_name)\u001B[0m\n\u001B[1;32m    179\u001B[0m         raise ValueError('Load weights is not yet supported with TPUStrategy '\n\u001B[1;32m    180\u001B[0m                          'with steps_per_run greater than 1.')\n\u001B[0;32m--> 181\u001B[0;31m     \u001B[0;32mreturn\u001B[0m \u001B[0msuper\u001B[0m\u001B[0;34m(\u001B[0m\u001B[0mModel\u001B[0m\u001B[0;34m,\u001B[0m \u001B[0mself\u001B[0m\u001B[0;34m)\u001B[0m\u001B[0;34m.\u001B[0m\u001B[0mload_weights\u001B[0m\u001B[0;34m(\u001B[0m\u001B[0mfilepath\u001B[0m\u001B[0;34m,\u001B[0m \u001B[0mby_name\u001B[0m\u001B[0;34m)\u001B[0m\u001B[0;34m\u001B[0m\u001B[0;34m\u001B[0m\u001B[0m\n\u001B[0m\u001B[1;32m    182\u001B[0m \u001B[0;34m\u001B[0m\u001B[0m\n\u001B[1;32m    183\u001B[0m   \u001B[0;34m@\u001B[0m\u001B[0mtrackable\u001B[0m\u001B[0;34m.\u001B[0m\u001B[0mno_automatic_dependency_tracking\u001B[0m\u001B[0;34m\u001B[0m\u001B[0;34m\u001B[0m\u001B[0m\n",
      "\u001B[0;32m~/opt/anaconda3/envs/cs224n/lib/python3.7/site-packages/tensorflow_core/python/keras/engine/network.py\u001B[0m in \u001B[0;36mload_weights\u001B[0;34m(self, filepath, by_name)\u001B[0m\n\u001B[1;32m   1175\u001B[0m         \u001B[0msaving\u001B[0m\u001B[0;34m.\u001B[0m\u001B[0mload_weights_from_hdf5_group_by_name\u001B[0m\u001B[0;34m(\u001B[0m\u001B[0mf\u001B[0m\u001B[0;34m,\u001B[0m \u001B[0mself\u001B[0m\u001B[0;34m.\u001B[0m\u001B[0mlayers\u001B[0m\u001B[0;34m)\u001B[0m\u001B[0;34m\u001B[0m\u001B[0;34m\u001B[0m\u001B[0m\n\u001B[1;32m   1176\u001B[0m       \u001B[0;32melse\u001B[0m\u001B[0;34m:\u001B[0m\u001B[0;34m\u001B[0m\u001B[0;34m\u001B[0m\u001B[0m\n\u001B[0;32m-> 1177\u001B[0;31m         \u001B[0msaving\u001B[0m\u001B[0;34m.\u001B[0m\u001B[0mload_weights_from_hdf5_group\u001B[0m\u001B[0;34m(\u001B[0m\u001B[0mf\u001B[0m\u001B[0;34m,\u001B[0m \u001B[0mself\u001B[0m\u001B[0;34m.\u001B[0m\u001B[0mlayers\u001B[0m\u001B[0;34m)\u001B[0m\u001B[0;34m\u001B[0m\u001B[0;34m\u001B[0m\u001B[0m\n\u001B[0m\u001B[1;32m   1178\u001B[0m \u001B[0;34m\u001B[0m\u001B[0m\n\u001B[1;32m   1179\u001B[0m   \u001B[0;32mdef\u001B[0m \u001B[0m_updated_config\u001B[0m\u001B[0;34m(\u001B[0m\u001B[0mself\u001B[0m\u001B[0;34m)\u001B[0m\u001B[0;34m:\u001B[0m\u001B[0;34m\u001B[0m\u001B[0;34m\u001B[0m\u001B[0m\n",
      "\u001B[0;32m~/opt/anaconda3/envs/cs224n/lib/python3.7/site-packages/tensorflow_core/python/keras/saving/hdf5_format.py\u001B[0m in \u001B[0;36mload_weights_from_hdf5_group\u001B[0;34m(f, layers)\u001B[0m\n\u001B[1;32m    649\u001B[0m   \"\"\"\n\u001B[1;32m    650\u001B[0m   \u001B[0;32mif\u001B[0m \u001B[0;34m'keras_version'\u001B[0m \u001B[0;32min\u001B[0m \u001B[0mf\u001B[0m\u001B[0;34m.\u001B[0m\u001B[0mattrs\u001B[0m\u001B[0;34m:\u001B[0m\u001B[0;34m\u001B[0m\u001B[0;34m\u001B[0m\u001B[0m\n\u001B[0;32m--> 651\u001B[0;31m     \u001B[0moriginal_keras_version\u001B[0m \u001B[0;34m=\u001B[0m \u001B[0mf\u001B[0m\u001B[0;34m.\u001B[0m\u001B[0mattrs\u001B[0m\u001B[0;34m[\u001B[0m\u001B[0;34m'keras_version'\u001B[0m\u001B[0;34m]\u001B[0m\u001B[0;34m.\u001B[0m\u001B[0mdecode\u001B[0m\u001B[0;34m(\u001B[0m\u001B[0;34m'utf8'\u001B[0m\u001B[0;34m)\u001B[0m\u001B[0;34m\u001B[0m\u001B[0;34m\u001B[0m\u001B[0m\n\u001B[0m\u001B[1;32m    652\u001B[0m   \u001B[0;32melse\u001B[0m\u001B[0;34m:\u001B[0m\u001B[0;34m\u001B[0m\u001B[0;34m\u001B[0m\u001B[0m\n\u001B[1;32m    653\u001B[0m     \u001B[0moriginal_keras_version\u001B[0m \u001B[0;34m=\u001B[0m \u001B[0;34m'1'\u001B[0m\u001B[0;34m\u001B[0m\u001B[0;34m\u001B[0m\u001B[0m\n",
      "\u001B[0;31mAttributeError\u001B[0m: 'str' object has no attribute 'decode'"
     ]
    }
   ],
   "source": [
    "# 验证存储和到处的参数是否一致\n",
    "net2 = MLP()\n",
    "net2(X)\n",
    "net2.load_weights(\"4.5saved_model.h5\")\n",
    "Y2 = net2(X)\n",
    "Y2 == Y"
   ],
   "metadata": {
    "collapsed": false,
    "pycharm": {
     "name": "#%%\n"
    }
   }
  },
  {
   "cell_type": "code",
   "execution_count": null,
   "outputs": [],
   "source": [],
   "metadata": {
    "collapsed": false,
    "pycharm": {
     "name": "#%%\n"
    }
   }
  },
  {
   "cell_type": "code",
   "execution_count": null,
   "outputs": [],
   "source": [],
   "metadata": {
    "collapsed": false,
    "pycharm": {
     "name": "#%%\n"
    }
   }
  }
 ],
 "metadata": {
  "kernelspec": {
   "display_name": "Python 3",
   "language": "python",
   "name": "python3"
  },
  "language_info": {
   "codemirror_mode": {
    "name": "ipython",
    "version": 2
   },
   "file_extension": ".py",
   "mimetype": "text/x-python",
   "name": "python",
   "nbconvert_exporter": "python",
   "pygments_lexer": "ipython2",
   "version": "2.7.6"
  }
 },
 "nbformat": 4,
 "nbformat_minor": 0
}