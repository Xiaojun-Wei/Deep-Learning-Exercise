{
 "cells": [
  {
   "cell_type": "code",
   "execution_count": 1,
   "metadata": {
    "collapsed": true
   },
   "outputs": [],
   "source": [
    "import tensorflow as tf\n",
    "import numpy as np"
   ]
  },
  {
   "cell_type": "code",
   "source": [
    "net = tf.keras.models.Sequential()\n",
    "net.add(tf.keras.layers.Flatten())\n",
    "net.add(tf.keras.layers.Dense(256, activation=tf.nn.relu))\n",
    "net.add(tf.keras.layers.Dense(10))\n",
    "X = tf.random.uniform((2, 20))\n",
    "Y = net(X)\n",
    "Y"
   ],
   "metadata": {
    "collapsed": false,
    "pycharm": {
     "name": "#%%\n"
    }
   },
   "execution_count": null,
   "outputs": []
  },
  {
   "cell_type": "markdown",
   "source": [
    "## 4.2.1 access model parameters ##"
   ],
   "metadata": {
    "collapsed": false,
    "pycharm": {
     "name": "#%% md\n"
    }
   }
  },
  {
   "cell_type": "code",
   "execution_count": 9,
   "outputs": [
    {
     "data": {
      "text/plain": "(<tf.Variable 'sequential/dense/kernel:0' shape=(20, 256) dtype=float32, numpy=\n array([[-0.12799473, -0.11995938,  0.10383764, ..., -0.05629227,\n          0.0333396 , -0.01431496],\n        [ 0.01186427, -0.14032018,  0.00176387, ...,  0.11587596,\n          0.06175767, -0.04032614],\n        [ 0.02428985,  0.03435875,  0.01119195, ...,  0.12857285,\n         -0.00957112,  0.03174564],\n        ...,\n        [ 0.04088208, -0.0529936 , -0.13115418, ..., -0.0659776 ,\n          0.00337525,  0.0094053 ],\n        [ 0.03206511,  0.04503854,  0.12436324, ...,  0.07713924,\n          0.04029426, -0.07745453],\n        [-0.01497063,  0.12963906,  0.05750762, ...,  0.11598042,\n         -0.13603821,  0.10237062]], dtype=float32)>,\n tensorflow.python.ops.resource_variable_ops.ResourceVariable)"
     },
     "execution_count": 9,
     "metadata": {},
     "output_type": "execute_result"
    }
   ],
   "source": [
    "net.weights[0], type(net.weights[0])"
   ],
   "metadata": {
    "collapsed": false,
    "pycharm": {
     "name": "#%%\n"
    }
   }
  },
  {
   "cell_type": "markdown",
   "source": [
    "## 4.2.2 Initialize params##"
   ],
   "metadata": {
    "collapsed": false,
    "pycharm": {
     "name": "#%% md\n"
    }
   }
  },
  {
   "cell_type": "code",
   "execution_count": 10,
   "outputs": [
    {
     "data": {
      "text/plain": "[array([[-1.18628927e-02, -1.12090586e-03,  1.50826257e-02,\n         -9.92416032e-03, -4.13838355e-03,  3.85913136e-03,\n         -8.79177731e-03,  1.34522724e-03, -5.90103725e-03,\n         -4.01450990e-04],\n        [-1.88155137e-02,  2.35995818e-02, -7.47964205e-03,\n         -6.36882149e-03,  1.58715416e-02, -5.14057511e-03,\n         -1.36766965e-02, -2.95081618e-03, -1.52417440e-02,\n         -1.00631518e-02],\n        [ 1.34047288e-02, -8.06880835e-03,  3.47673967e-02,\n          7.88560789e-03, -2.07496714e-02, -1.19926510e-02,\n          1.22255180e-02, -6.72037294e-03,  5.90788084e-04,\n          7.91824888e-03],\n        [ 9.70429275e-03,  6.34870166e-03,  9.56507027e-03,\n         -1.03058275e-02,  1.68642215e-02,  8.01890157e-03,\n         -1.53859481e-02,  2.25036827e-04,  1.43532809e-02,\n         -6.05844241e-03],\n        [ 1.12675708e-02,  5.54247480e-03, -2.04445422e-02,\n          1.03290677e-02, -4.86314995e-04,  1.04903765e-02,\n         -9.68470052e-03, -3.50782415e-03, -8.19162372e-03,\n         -2.92842416e-03],\n        [-1.08868396e-02,  5.79114072e-03, -9.61895217e-04,\n          8.28376412e-03,  1.92230532e-03, -4.78936685e-03,\n          6.97481818e-03, -1.00860763e-02,  3.10220988e-04,\n          2.16943026e-02],\n        [ 4.69830011e-05,  1.58640053e-02, -4.42555640e-03,\n          1.04487094e-03, -1.04536600e-02, -4.16709762e-03,\n         -2.92465324e-03,  1.53112281e-02, -1.20408544e-02,\n          1.77098922e-02],\n        [-1.41053814e-02, -5.95343625e-03, -8.17168411e-03,\n         -2.33655572e-02,  4.53095511e-03, -7.65490753e-04,\n         -2.57438025e-03, -1.54822844e-03, -9.89270024e-03,\n         -4.02403949e-03],\n        [-4.86875931e-03, -9.94948484e-03, -9.67174489e-03,\n         -5.27190696e-03, -7.05902092e-03,  1.35093015e-02,\n          2.34799599e-03,  2.92185741e-03,  1.38914417e-02,\n         -9.55200754e-03],\n        [ 1.03254113e-02,  2.22848519e-03, -4.89048380e-03,\n         -4.49165981e-03, -4.93459916e-03, -5.42453583e-03,\n         -1.60911994e-03,  7.27797532e-03,  1.64253209e-02,\n          1.09365983e-02],\n        [-1.83100142e-02,  1.00635886e-02,  1.93333090e-03,\n         -3.07960692e-03, -3.67982965e-03, -5.93557069e-03,\n          1.72382239e-02, -1.26732211e-03,  8.86510964e-03,\n          9.52091999e-03],\n        [ 5.25725167e-03,  2.08844300e-02, -3.42799188e-03,\n          1.90877251e-03, -3.19777010e-03, -3.79469187e-04,\n          2.79798973e-02, -1.15241259e-02,  3.63284280e-03,\n          2.25261814e-04],\n        [ 1.11098476e-02, -8.37177224e-03, -2.60694325e-03,\n          1.45395286e-02, -5.13671618e-03, -5.12485800e-04,\n          9.62029491e-03, -1.00549627e-02,  1.04072308e-02,\n          1.32894581e-02],\n        [ 1.11693870e-02, -1.01129683e-02, -1.23306864e-03,\n         -4.86845471e-04, -1.53374327e-02,  2.04339288e-02,\n         -1.13798201e-03, -1.36614619e-02, -7.68947368e-03,\n         -1.36443386e-02],\n        [-6.59351330e-03,  1.13901468e-02, -2.54590437e-03,\n          4.10363497e-03, -1.02619445e-02,  4.32335306e-03,\n         -2.20128130e-02, -4.33621276e-03, -1.94608606e-02,\n          7.99075118e-04],\n        [ 3.18480446e-03, -1.56549253e-02, -9.18840896e-03,\n         -8.62386730e-03,  1.62347984e-02, -1.83460359e-02,\n         -7.45454011e-03, -1.48365973e-02,  1.40368221e-02,\n         -1.86885742e-03],\n        [ 1.08486935e-02, -4.26642923e-03,  2.40797922e-02,\n         -4.47865995e-03, -3.73099791e-03,  1.48932887e-02,\n         -5.24072023e-03, -1.32305110e-02,  5.26614115e-03,\n         -2.69898940e-02],\n        [-6.45721471e-03, -9.13511217e-03,  1.96212828e-02,\n         -7.75592728e-03, -7.73976848e-04,  1.15456935e-02,\n          5.49001805e-03, -1.37440180e-02,  9.90451127e-03,\n          2.76959036e-02],\n        [-1.60313360e-02,  3.18741798e-03, -1.33122420e-02,\n         -1.32513158e-02, -9.83056147e-03,  5.88581804e-03,\n         -3.56988003e-03,  6.92835124e-03,  7.12509500e-03,\n          1.12658285e-03],\n        [ 5.98277058e-03, -1.31582385e-02, -4.77473298e-03,\n          6.24195021e-03, -1.50111597e-02,  5.76672610e-03,\n          4.91289888e-04, -4.60626464e-03,  4.22920473e-03,\n         -5.81683917e-03]], dtype=float32),\n array([0., 0., 0., 0., 0., 0., 0., 0., 0., 0.], dtype=float32),\n array([[1.],\n        [1.],\n        [1.],\n        [1.],\n        [1.],\n        [1.],\n        [1.],\n        [1.],\n        [1.],\n        [1.]], dtype=float32),\n array([1.], dtype=float32)]"
     },
     "execution_count": 10,
     "metadata": {},
     "output_type": "execute_result"
    }
   ],
   "source": [
    "# 将权重参数初始化成均值为0、标准差为0.01的正态分布随机数，并依然将偏差参数清零。\n",
    "class Linear(tf.keras.Model):\n",
    "    def __init__(self):\n",
    "        super().__init__()\n",
    "        self.d1 = tf.keras.layers.Dense(\n",
    "            units=10,\n",
    "            activation=None,\n",
    "            kernel_initializer=tf.random_normal_initializer(\n",
    "                mean=0, stddev=0.01),\n",
    "            bias_initializer=tf.zeros_initializer()\n",
    "            )\n",
    "        self.d2 = tf.keras.layers.Dense(\n",
    "            units=1,\n",
    "            activation=None,\n",
    "            kernel_initializer=tf.ones_initializer(),\n",
    "            bias_initializer=tf.ones_initializer()\n",
    "        )\n",
    "\n",
    "    def call(self, input):\n",
    "        output = self.d1(input)\n",
    "        output = self.d2(output)\n",
    "        return output\n",
    "\n",
    "net = Linear()\n",
    "net(X)\n",
    "net.get_weights()\n"
   ],
   "metadata": {
    "collapsed": false,
    "pycharm": {
     "name": "#%%\n"
    }
   }
  },
  {
   "cell_type": "markdown",
   "source": [
    "## 4.2.3 Define Initializer ##\n"
   ],
   "metadata": {
    "collapsed": false,
    "pycharm": {
     "name": "#%% md\n"
    }
   }
  },
  {
   "cell_type": "code",
   "execution_count": 12,
   "outputs": [
    {
     "data": {
      "text/plain": "<tf.Variable 'sequential_1/dense_4/kernel:0' shape=(20, 64) dtype=float32, numpy=\narray([[1., 1., 1., ..., 1., 1., 1.],\n       [1., 1., 1., ..., 1., 1., 1.],\n       [1., 1., 1., ..., 1., 1., 1.],\n       ...,\n       [1., 1., 1., ..., 1., 1., 1.],\n       [1., 1., 1., ..., 1., 1., 1.],\n       [1., 1., 1., ..., 1., 1., 1.]], dtype=float32)>"
     },
     "execution_count": 12,
     "metadata": {},
     "output_type": "execute_result"
    }
   ],
   "source": [
    "def my_init():\n",
    "    return tf.keras.initializers.Ones()\n",
    "\n",
    "model = tf.keras.models.Sequential()\n",
    "model.add(tf.keras.layers.Dense(64, kernel_initializer=my_init()))\n",
    "Y = model(X)\n",
    "model.weights[0]"
   ],
   "metadata": {
    "collapsed": false,
    "pycharm": {
     "name": "#%%\n"
    }
   }
  },
  {
   "cell_type": "code",
   "execution_count": null,
   "outputs": [],
   "source": [],
   "metadata": {
    "collapsed": false,
    "pycharm": {
     "name": "#%%\n"
    }
   }
  },
  {
   "cell_type": "code",
   "execution_count": null,
   "outputs": [],
   "source": [],
   "metadata": {
    "collapsed": false,
    "pycharm": {
     "name": "#%%\n"
    }
   }
  },
  {
   "cell_type": "markdown",
   "source": [],
   "metadata": {
    "collapsed": false,
    "pycharm": {
     "name": "#%% md\n"
    }
   }
  }
 ],
 "metadata": {
  "kernelspec": {
   "display_name": "Python 3",
   "language": "python",
   "name": "python3"
  },
  "language_info": {
   "codemirror_mode": {
    "name": "ipython",
    "version": 2
   },
   "file_extension": ".py",
   "mimetype": "text/x-python",
   "name": "python",
   "nbconvert_exporter": "python",
   "pygments_lexer": "ipython2",
   "version": "2.7.6"
  }
 },
 "nbformat": 4,
 "nbformat_minor": 0
}