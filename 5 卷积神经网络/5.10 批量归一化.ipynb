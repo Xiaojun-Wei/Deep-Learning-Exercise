{
 "cells": [
  {
   "cell_type": "code",
   "execution_count": 1,
   "metadata": {
    "collapsed": true
   },
   "outputs": [],
   "source": [
    "import tensorflow as tf"
   ]
  },
  {
   "cell_type": "code",
   "execution_count": 2,
   "outputs": [],
   "source": [
    "net = tf.keras.models.Sequential()\n",
    "net.add(tf.keras.layers.Conv2D(filters=6,kernel_size=5))\n",
    "net.add(tf.keras.layers.BatchNormalization())\n",
    "net.add(tf.keras.layers.Activation('sigmoid'))\n",
    "net.add(tf.keras.layers.MaxPool2D(pool_size=2, strides=2))\n",
    "net.add(tf.keras.layers.Conv2D(filters=16,kernel_size=5))\n",
    "net.add(tf.keras.layers.BatchNormalization())\n",
    "net.add(tf.keras.layers.Activation('sigmoid'))\n",
    "net.add(tf.keras.layers.MaxPool2D(pool_size=2, strides=2))\n",
    "net.add(tf.keras.layers.Flatten())\n",
    "net.add(tf.keras.layers.Dense(120))\n",
    "net.add(tf.keras.layers.BatchNormalization())\n",
    "net.add(tf.keras.layers.Activation('sigmoid'))\n",
    "net.add(tf.keras.layers.Dense(84))\n",
    "net.add(tf.keras.layers.BatchNormalization())\n",
    "net.add(tf.keras.layers.Activation('sigmoid'))\n",
    "net.add(tf.keras.layers.Dense(10,activation='sigmoid'))"
   ],
   "metadata": {
    "collapsed": false,
    "pycharm": {
     "name": "#%%\n"
    }
   }
  },
  {
   "cell_type": "code",
   "execution_count": 3,
   "outputs": [
    {
     "name": "stderr",
     "output_type": "stream",
     "text": [
      "2022-04-18 09:35:25.161847: I tensorflow/core/platform/cpu_feature_guard.cc:145] This TensorFlow binary is optimized with Intel(R) MKL-DNN to use the following CPU instructions in performance critical operations:  SSE4.1 SSE4.2\n",
      "To enable them in non-MKL-DNN operations, rebuild TensorFlow with the appropriate compiler flags.\n",
      "2022-04-18 09:35:25.164611: I tensorflow/core/common_runtime/process_util.cc:115] Creating new thread pool with default inter op setting: 8. Tune using inter_op_parallelism_threads for best performance.\n"
     ]
    },
    {
     "name": "stdout",
     "output_type": "stream",
     "text": [
      "Train on 48000 samples, validate on 12000 samples\n",
      "Epoch 1/5\n",
      "48000/48000 [==============================] - 56s 1ms/sample - loss: 0.3962 - accuracy: 0.9398 - val_loss: 0.2082 - val_accuracy: 0.9398\n",
      "Epoch 2/5\n",
      "48000/48000 [==============================] - 54s 1ms/sample - loss: 0.0832 - accuracy: 0.9770 - val_loss: 0.3478 - val_accuracy: 0.8756\n",
      "Epoch 3/5\n",
      "48000/48000 [==============================] - 56s 1ms/sample - loss: 0.0595 - accuracy: 0.9824 - val_loss: 0.0923 - val_accuracy: 0.9712\n",
      "Epoch 4/5\n",
      "48000/48000 [==============================] - 53s 1ms/sample - loss: 0.0496 - accuracy: 0.9849 - val_loss: 0.0994 - val_accuracy: 0.9701\n",
      "Epoch 5/5\n",
      "48000/48000 [==============================] - 54s 1ms/sample - loss: 0.0421 - accuracy: 0.9869 - val_loss: 0.1672 - val_accuracy: 0.9484\n",
      "10000/1 - 4s - loss: 0.0753 - accuracy: 0.9505\n",
      "Test loss: 0.14847155224867165\n",
      "Test accuracy: 0.9505\n"
     ]
    }
   ],
   "source": [
    "(x_train, y_train), (x_test, y_test) = tf.keras.datasets.mnist.load_data()\n",
    "x_train = x_train.reshape((60000, 28, 28, 1)).astype('float32') / 255\n",
    "x_test = x_test.reshape((10000, 28, 28, 1)).astype('float32') / 255\n",
    "\n",
    "net.compile(loss='sparse_categorical_crossentropy',\n",
    "              optimizer=tf.keras.optimizers.RMSprop(),\n",
    "              metrics=['accuracy'])\n",
    "history = net.fit(x_train, y_train,\n",
    "                    batch_size=64,\n",
    "                    epochs=5,\n",
    "                    validation_split=0.2)\n",
    "test_scores = net.evaluate(x_test, y_test, verbose=2)\n",
    "print('Test loss:', test_scores[0])\n",
    "print('Test accuracy:', test_scores[1])"
   ],
   "metadata": {
    "collapsed": false,
    "pycharm": {
     "name": "#%%\n"
    }
   }
  },
  {
   "cell_type": "code",
   "execution_count": null,
   "outputs": [],
   "source": [],
   "metadata": {
    "collapsed": false,
    "pycharm": {
     "name": "#%%\n"
    }
   }
  },
  {
   "cell_type": "code",
   "execution_count": null,
   "outputs": [],
   "source": [],
   "metadata": {
    "collapsed": false,
    "pycharm": {
     "name": "#%%\n"
    }
   }
  },
  {
   "cell_type": "code",
   "execution_count": null,
   "outputs": [],
   "source": [],
   "metadata": {
    "collapsed": false,
    "pycharm": {
     "name": "#%%\n"
    }
   }
  },
  {
   "cell_type": "code",
   "execution_count": null,
   "outputs": [],
   "source": [],
   "metadata": {
    "collapsed": false,
    "pycharm": {
     "name": "#%%\n"
    }
   }
  },
  {
   "cell_type": "code",
   "execution_count": null,
   "outputs": [],
   "source": [],
   "metadata": {
    "collapsed": false,
    "pycharm": {
     "name": "#%%\n"
    }
   }
  },
  {
   "cell_type": "code",
   "execution_count": null,
   "outputs": [],
   "source": [],
   "metadata": {
    "collapsed": false,
    "pycharm": {
     "name": "#%%\n"
    }
   }
  }
 ],
 "metadata": {
  "kernelspec": {
   "display_name": "Python 3",
   "language": "python",
   "name": "python3"
  },
  "language_info": {
   "codemirror_mode": {
    "name": "ipython",
    "version": 2
   },
   "file_extension": ".py",
   "mimetype": "text/x-python",
   "name": "python",
   "nbconvert_exporter": "python",
   "pygments_lexer": "ipython2",
   "version": "2.7.6"
  }
 },
 "nbformat": 4,
 "nbformat_minor": 0
}